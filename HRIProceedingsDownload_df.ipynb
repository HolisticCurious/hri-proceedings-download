{
 "cells": [
  {
   "cell_type": "code",
   "execution_count": null,
   "id": "375f383a",
   "metadata": {},
   "outputs": [],
   "source": [
    "import selenium\n",
    "from selenium import webdriver  \n",
    "import time  \n",
    "import urllib  \n",
    "from slugify import slugify\n",
    "import requests\n",
    "import random\n",
    "import os"
   ]
  },
  {
   "cell_type": "code",
   "execution_count": null,
   "id": "03634d8f",
   "metadata": {
    "scrolled": true
   },
   "outputs": [],
   "source": [
    "\"\"\"\n",
    "some variables needed to be set up by users\n",
    "\"\"\"\n",
    "conference = 'hri'\n",
    "conference_url = \"https://dl.acm.org/doi/proceedings/10.1145/1121241\" # the conference url to download papers from\n",
    "#see all available here: https://dl.acm.org/conference/hri/proceedings\n",
    "chromedriver_path = 'chromedriver' # the chromedriver.exe path\n",
    "year = '06'\n",
    "root = './'+year+'/' #file path to save the downloaded papers\n",
    "\n",
    "os.makedirs(root, exist_ok=True)\n",
    "print(root)"
   ]
  },
  {
   "cell_type": "code",
   "execution_count": null,
   "id": "82f8e64c",
   "metadata": {
    "scrolled": true
   },
   "outputs": [],
   "source": [
    "#setting up some driver options\n",
    "chrome_options = webdriver.ChromeOptions()\n",
    "chrome_options.add_argument('--headless')\n",
    "chrome_options.add_argument('--no-sandbox')\n",
    "chrome_options.add_argument('--disable-dev-shm-usage')\n",
    "wd = webdriver.Chrome(executable_path='./chromedriver',chrome_options=chrome_options)"
   ]
  },
  {
   "cell_type": "code",
   "execution_count": null,
   "id": "e1fcc6f3",
   "metadata": {
    "scrolled": true
   },
   "outputs": [],
   "source": [
    "wd.get(conference_url)\n",
    "\n",
    "from retrieve_titles_urls_from_websites import *\n",
    "retrieve = globals()['retrieve_from_'+conference]\n",
    "print('Retrieving pdf urls. This could take some time...')\n",
    "pdfurllist, pdfnamelist, df = retrieve(wd)\n",
    "\n",
    "\n",
    "conf_name = wd.find_elements_by_class_name(\"left-bordered-title\")[0].get_attribute('textContent')\n",
    "#print(conf_name)\n",
    "df['Conference'] = [conf_name]*df.shape[0]\n",
    "df['Folder'] = [year]*df.shape[0]\n"
   ]
  },
  {
   "cell_type": "code",
   "execution_count": null,
   "id": "f779deae",
   "metadata": {},
   "outputs": [],
   "source": [
    "# download the papers one by one. The files are named after the titles (guaranteed to be valid file name after processed by slugify.)\n",
    "print('Start downloading')\n",
    "headers = {'user-agent': 'Mozilla/5.0 (Windows NT 10.0; WOW64; rv:57.0) Gecko/20100101 Firefox/57.0'}\n",
    "for i, url in enumerate(pdfurllist):\n",
    "    if url != None :      \n",
    "        pdfname = slugify(pdfnamelist[i])\n",
    "        if os.path.isfile(root+'/'+pdfname+\".pdf\"):\n",
    "            print('existed', i, '\\t', pdfnamelist[i], '\\t', pdfurllist[i])\n",
    "        else:\n",
    "            print(i, '\\t', pdfnamelist[i], '\\t', pdfurllist[i])\n",
    "            data = requests.get(pdfurllist[i], timeout=80, headers=headers).content\n",
    "            \n",
    "            with open(root+'/'+pdfname+\".pdf\", 'wb')  as f:\n",
    "                f.write(data)  \n",
    "            _ = time.sleep(random.uniform(4,5)) # for anti-anti-crawler purpose"
   ]
  },
  {
   "cell_type": "code",
   "execution_count": null,
   "id": "7cb54181",
   "metadata": {},
   "outputs": [],
   "source": [
    "df.to_csv(root+'/dataframe.csv', index = False) #creates dataframe"
   ]
  }
 ],
 "metadata": {
  "kernelspec": {
   "display_name": "Python 3",
   "language": "python",
   "name": "python3"
  },
  "language_info": {
   "codemirror_mode": {
    "name": "ipython",
    "version": 3
   },
   "file_extension": ".py",
   "mimetype": "text/x-python",
   "name": "python",
   "nbconvert_exporter": "python",
   "pygments_lexer": "ipython3",
   "version": "3.6.13"
  }
 },
 "nbformat": 4,
 "nbformat_minor": 5
}
